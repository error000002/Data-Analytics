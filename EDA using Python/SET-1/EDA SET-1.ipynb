{
 "cells": [
  {
   "cell_type": "markdown",
   "metadata": {},
   "source": [
    "# EDA SET-1"
   ]
  },
  {
   "cell_type": "markdown",
   "metadata": {},
   "source": [
    "LOADING LIBRARIES:"
   ]
  },
  {
   "cell_type": "code",
   "execution_count": 29,
   "metadata": {},
   "outputs": [],
   "source": [
    "import numpy as np\n",
    "import pandas as pd\n",
    "import seaborn as sns\n",
    "import matplotlib.pyplot as plt\n",
    "\n",
    "from scipy.stats import trim_mean"
   ]
  },
  {
   "cell_type": "markdown",
   "metadata": {},
   "source": [
    "LOADING DATA: "
   ]
  },
  {
   "cell_type": "code",
   "execution_count": 30,
   "metadata": {},
   "outputs": [
    {
     "name": "stdout",
     "output_type": "stream",
     "text": [
      "Type:  <class 'pandas.core.frame.DataFrame'> \n",
      "\n",
      "\n",
      "Head:           State  Population  Murder.Rate Abbreviation\n",
      "0      Alabama     4779736          5.7           AL\n",
      "1       Alaska      710231          5.6           AK\n",
      "2      Arizona     6392017          4.7           AZ\n",
      "3     Arkansas     2915918          5.6           AR\n",
      "4   California    37253956          4.4           CA\n",
      "5     Colorado     5029196          2.8           CO\n",
      "6  Connecticut     3574097          2.4           CT\n",
      "7     Delaware      897934          5.8           DE\n",
      "8      Florida    18801310          5.8           FL\n",
      "9      Georgia     9687653          5.7           GA \n",
      "\n",
      "Tail:              State  Population  Murder.Rate Abbreviation\n",
      "40   South Dakota      814180          2.3           SD\n",
      "41      Tennessee     6346105          5.7           TN\n",
      "42          Texas    25145561          4.4           TX\n",
      "43           Utah     2763885          2.3           UT\n",
      "44        Vermont      625741          1.6           VT\n",
      "45       Virginia     8001024          4.1           VA\n",
      "46     Washington     6724540          2.5           WA\n",
      "47  West Virginia     1852994          4.0           WV\n",
      "48      Wisconsin     5686986          2.9           WI\n",
      "49        Wyoming      563626          2.7           WY\n"
     ]
    }
   ],
   "source": [
    "data = pd.read_csv(\"state.csv\")\n",
    "\n",
    "# Check the type of data\n",
    "print(\"Type: \", type(data), \"\\n\\n\")\n",
    "\n",
    "#Print top 10 Records\n",
    "print(\"Head: \", data.head(10), \"\\n\")\n",
    "\n",
    "#print last 10 Records\n",
    "print(\"Tail: \", data.tail(10))\n"
   ]
  },
  {
   "cell_type": "markdown",
   "metadata": {},
   "source": [
    "ADDING COLUMN TO THE DATAFRAME:"
   ]
  },
  {
   "cell_type": "code",
   "execution_count": 31,
   "metadata": {},
   "outputs": [
    {
     "name": "stdout",
     "output_type": "stream",
     "text": [
      "        State  Population  Murder.Rate Abbreviation  Population In Million\n",
      "0     Alabama     4779736          5.7           AL               4.779736\n",
      "1      Alaska      710231          5.6           AK               0.710231\n",
      "2     Arizona     6392017          4.7           AZ               6.392017\n",
      "3    Arkansas     2915918          5.6           AR               2.915918\n",
      "4  California    37253956          4.4           CA              37.253956\n"
     ]
    }
   ],
   "source": [
    "data['Population In Million'] = data['Population']/1000000\n",
    "\n",
    "#Changed Data\n",
    "print(data.head())"
   ]
  },
  {
   "cell_type": "markdown",
   "metadata": {},
   "source": [
    "DATA DESCRIPTION:"
   ]
  },
  {
   "cell_type": "code",
   "execution_count": 32,
   "metadata": {},
   "outputs": [
    {
     "data": {
      "text/html": [
       "<div>\n",
       "<style scoped>\n",
       "    .dataframe tbody tr th:only-of-type {\n",
       "        vertical-align: middle;\n",
       "    }\n",
       "\n",
       "    .dataframe tbody tr th {\n",
       "        vertical-align: top;\n",
       "    }\n",
       "\n",
       "    .dataframe thead th {\n",
       "        text-align: right;\n",
       "    }\n",
       "</style>\n",
       "<table border=\"1\" class=\"dataframe\">\n",
       "  <thead>\n",
       "    <tr style=\"text-align: right;\">\n",
       "      <th></th>\n",
       "      <th>Population</th>\n",
       "      <th>Murder.Rate</th>\n",
       "      <th>Population In Million</th>\n",
       "    </tr>\n",
       "  </thead>\n",
       "  <tbody>\n",
       "    <tr>\n",
       "      <th>count</th>\n",
       "      <td>5.000000e+01</td>\n",
       "      <td>50.000000</td>\n",
       "      <td>50.000000</td>\n",
       "    </tr>\n",
       "    <tr>\n",
       "      <th>mean</th>\n",
       "      <td>6.162876e+06</td>\n",
       "      <td>4.066000</td>\n",
       "      <td>6.162876</td>\n",
       "    </tr>\n",
       "    <tr>\n",
       "      <th>std</th>\n",
       "      <td>6.848235e+06</td>\n",
       "      <td>1.915736</td>\n",
       "      <td>6.848235</td>\n",
       "    </tr>\n",
       "    <tr>\n",
       "      <th>min</th>\n",
       "      <td>5.636260e+05</td>\n",
       "      <td>0.900000</td>\n",
       "      <td>0.563626</td>\n",
       "    </tr>\n",
       "    <tr>\n",
       "      <th>25%</th>\n",
       "      <td>1.833004e+06</td>\n",
       "      <td>2.425000</td>\n",
       "      <td>1.833004</td>\n",
       "    </tr>\n",
       "    <tr>\n",
       "      <th>50%</th>\n",
       "      <td>4.436370e+06</td>\n",
       "      <td>4.000000</td>\n",
       "      <td>4.436369</td>\n",
       "    </tr>\n",
       "    <tr>\n",
       "      <th>75%</th>\n",
       "      <td>6.680312e+06</td>\n",
       "      <td>5.550000</td>\n",
       "      <td>6.680312</td>\n",
       "    </tr>\n",
       "    <tr>\n",
       "      <th>max</th>\n",
       "      <td>3.725396e+07</td>\n",
       "      <td>10.300000</td>\n",
       "      <td>37.253956</td>\n",
       "    </tr>\n",
       "  </tbody>\n",
       "</table>\n",
       "</div>"
      ],
      "text/plain": [
       "         Population  Murder.Rate  Population In Million\n",
       "count  5.000000e+01    50.000000              50.000000\n",
       "mean   6.162876e+06     4.066000               6.162876\n",
       "std    6.848235e+06     1.915736               6.848235\n",
       "min    5.636260e+05     0.900000               0.563626\n",
       "25%    1.833004e+06     2.425000               1.833004\n",
       "50%    4.436370e+06     4.000000               4.436369\n",
       "75%    6.680312e+06     5.550000               6.680312\n",
       "max    3.725396e+07    10.300000              37.253956"
      ]
     },
     "execution_count": 32,
     "metadata": {},
     "output_type": "execute_result"
    }
   ],
   "source": [
    "data.describe()"
   ]
  },
  {
   "cell_type": "code",
   "execution_count": 33,
   "metadata": {},
   "outputs": [
    {
     "name": "stdout",
     "output_type": "stream",
     "text": [
      "<class 'pandas.core.frame.DataFrame'>\n",
      "RangeIndex: 50 entries, 0 to 49\n",
      "Data columns (total 5 columns):\n",
      " #   Column                 Non-Null Count  Dtype  \n",
      "---  ------                 --------------  -----  \n",
      " 0   State                  50 non-null     object \n",
      " 1   Population             50 non-null     int64  \n",
      " 2   Murder.Rate            50 non-null     float64\n",
      " 3   Abbreviation           50 non-null     object \n",
      " 4   Population In Million  50 non-null     float64\n",
      "dtypes: float64(2), int64(1), object(2)\n",
      "memory usage: 2.1+ KB\n"
     ]
    }
   ],
   "source": [
    "data.info()"
   ]
  },
  {
   "cell_type": "markdown",
   "metadata": {},
   "source": [
    "RENAMING A COLUMN HEADING:"
   ]
  },
  {
   "cell_type": "code",
   "execution_count": 34,
   "metadata": {},
   "outputs": [
    {
     "data": {
      "text/plain": [
       "['State', 'Population', 'MurderRate', 'Abbreviation', 'Population In Million']"
      ]
     },
     "execution_count": 34,
     "metadata": {},
     "output_type": "execute_result"
    }
   ],
   "source": [
    "# Rename column heading as it \n",
    "# has '.' in it which will create\n",
    "# problems when dealing functions\n",
    "data.rename(columns={'Murder.Rate':'MurderRate'}, inplace = True)\n",
    "\n",
    "list(data)"
   ]
  },
  {
   "cell_type": "markdown",
   "metadata": {},
   "source": [
    "CALCULATING MEAN:"
   ]
  },
  {
   "cell_type": "code",
   "execution_count": 36,
   "metadata": {},
   "outputs": [
    {
     "name": "stdout",
     "output_type": "stream",
     "text": [
      "Population Mean:  6162876.3\n",
      "Murder Rate Mean:  4.066\n"
     ]
    }
   ],
   "source": [
    "population_mean = data.Population.mean()\n",
    "print(\"Population Mean: \", population_mean)\n",
    "\n",
    "murderrate_mean = data.MurderRate.mean()\n",
    "print(\"Murder Rate Mean: \",murderrate_mean)"
   ]
  },
  {
   "cell_type": "markdown",
   "metadata": {},
   "source": [
    "TRIMMED MEAN:"
   ]
  },
  {
   "cell_type": "code",
   "execution_count": 40,
   "metadata": {},
   "outputs": [
    {
     "name": "stdout",
     "output_type": "stream",
     "text": [
      "Popolation Trim Mean:  4783697.125\n",
      "Murder Rate Trim Mean:  3.9450000000000003\n"
     ]
    }
   ],
   "source": [
    "Population_TM = trim_mean(data.Population, 0.1)\n",
    "print(\"Popolation Trim Mean: \", Population_TM)\n",
    "\n",
    "Murder_TM = trim_mean(data.MurderRate, 0.1)\n",
    "print(\"Murder Rate Trim Mean: \", Murder_TM)"
   ]
  },
  {
   "cell_type": "markdown",
   "metadata": {},
   "source": [
    "WEIGHTED MEAN:"
   ]
  },
  {
   "cell_type": "code",
   "execution_count": 42,
   "metadata": {},
   "outputs": [
    {
     "name": "stdout",
     "output_type": "stream",
     "text": [
      "Weighted Murder Rate Meam:  4.445833981123393\n"
     ]
    }
   ],
   "source": [
    "murderrate_WM = np.average(data.MurderRate, weights = data.Population)\n",
    "print(\"Weighted Murder Rate Meam: \", murderrate_WM)"
   ]
  },
  {
   "cell_type": "markdown",
   "metadata": {},
   "source": [
    "MEDIAN:"
   ]
  },
  {
   "cell_type": "code",
   "execution_count": 43,
   "metadata": {},
   "outputs": [
    {
     "name": "stdout",
     "output_type": "stream",
     "text": [
      "Population median :  4436369.5\n",
      "\n",
      "MurderRate median :  4.0\n"
     ]
    }
   ],
   "source": [
    "Population_median = data.Population.median()\n",
    "print (\"Population median : \", Population_median)\n",
    "  \n",
    "MurderRate_median = data.MurderRate.median()\n",
    "print (\"\\nMurderRate median : \", MurderRate_median)"
   ]
  },
  {
   "cell_type": "code",
   "execution_count": null,
   "metadata": {},
   "outputs": [],
   "source": []
  }
 ],
 "metadata": {
  "kernelspec": {
   "display_name": "Python 3",
   "language": "python",
   "name": "python3"
  },
  "language_info": {
   "codemirror_mode": {
    "name": "ipython",
    "version": 3
   },
   "file_extension": ".py",
   "mimetype": "text/x-python",
   "name": "python",
   "nbconvert_exporter": "python",
   "pygments_lexer": "ipython3",
   "version": "3.8.5"
  }
 },
 "nbformat": 4,
 "nbformat_minor": 4
}
